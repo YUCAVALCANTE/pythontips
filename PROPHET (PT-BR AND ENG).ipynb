{
  "nbformat": 4,
  "nbformat_minor": 0,
  "metadata": {
    "colab": {
      "provenance": [],
      "authorship_tag": "ABX9TyNhyEGKYTy0huHnEz6Onwvg",
      "include_colab_link": true
    },
    "kernelspec": {
      "name": "python3",
      "display_name": "Python 3"
    },
    "language_info": {
      "name": "python"
    }
  },
  "cells": [
    {
      "cell_type": "markdown",
      "metadata": {
        "id": "view-in-github",
        "colab_type": "text"
      },
      "source": [
        "<a href=\"https://colab.research.google.com/github/YUCAVALCANTE/pythontips/blob/main/PROPHET%20(PT-BR%20AND%20ENG).ipynb\" target=\"_parent\"><img src=\"https://colab.research.google.com/assets/colab-badge.svg\" alt=\"Open In Colab\"/></a>"
      ]
    },
    {
      "cell_type": "code",
      "execution_count": null,
      "metadata": {
        "id": "jmdROJqw2GQP"
      },
      "outputs": [],
      "source": [
        "# Primeiro, vamos buscar nossas ferramentas.\n",
        "from fbprophet import Prophet  # Prophet - seu novo melhor amigo para previsões!\n",
        "import pandas as pd  # E claro, Pandas, para todas as suas necessidades de manipulação de dados.\n",
        "\n",
        "# Carregue seus dados em um DataFrame\n",
        "# Vamos lá, hora de trazer seus dados para a jogada.\n",
        "#Use o Pandas para ler seus dados de vendas de um arquivo CSV.\n",
        "# Não esqueça de substituir 'your_sales_data.csv' pelo caminho real do seu conjunto de dados.\n",
        "df = pd.read_csv('your_sales_data.csv')\n",
        "\n",
        "# Configure o Prophet e ajuste seu modelo\n",
        "# Aqui, estamos configurando o Prophet.\n",
        "#Pense nisso como afinar seu instrumento antes de um concerto.\n",
        "model = Prophet()\n",
        "\n",
        "# Ajustar o modelo é como ensaiar;\n",
        "#você está ajudando o Prophet a entender o ritmo dos seus dados.\n",
        "model.fit(df)\n",
        "\n",
        "# Agora a parte divertida!\n",
        "#Vamos prever o futuro.\n",
        "# Vamos pedir ao Prophet para prever os próximos 365 dias.\n",
        "future = model.make_future_dataframe(periods=365)\n",
        "\n",
        "# Vamos ver como fica a previsão.\n",
        "forecast = model.predict(future)\n",
        "\n",
        "# Você verá seus dados históricos como pontos pretos,\n",
        "# suas previsões como uma linha azul e a incerteza de suas previsões como uma área azul sombreada.\n",
        "model.plot(forecast)\n",
        "plt.show()\n"
      ]
    },
    {
      "cell_type": "code",
      "source": [
        "# First things first, let's bring in our tools.\n",
        "from fbprophet import Prophet  # Prophet - your new best friend for forecasting!\n",
        "import pandas as pd  # And of course, Pandas, for all your data wrangling needs.\n",
        "\n",
        "# Load your data into a DataFrame\n",
        "# Alright, time to get your data into the mix.\n",
        "# Use Pandas to read your sales data from a CSV file.\n",
        "# Make sure to replace 'your_sales_data.csv' with the actual path to your dataset.\n",
        "df = pd.read_csv('your_sales_data.csv')\n",
        "\n",
        "# Set up Prophet and fit your model\n",
        "# Here, we're setting up Prophet. Think of it as tuning your instrument before a concert.\n",
        "model = Prophet()\n",
        "\n",
        "# Fitting the model is like rehearsing; you're helping Prophet understand the rhythm of your data.\n",
        "\n",
        "model.fit(df)\n",
        "\n",
        "# Forecast away and plot the results\n",
        "# Now for the fun part! Let's predict the future.\n",
        "#We'll ask Prophet to predict the next 365 days.\n",
        "\n",
        "future = model.make_future_dataframe(periods=365)\n",
        "\n",
        "# Let's see what the forecast looks like.\n",
        "forecast = model.predict(future)\n",
        "\n",
        "# Time to visualize! You'll see your historical data as black dots,\n",
        "# your predictions as a blue line, and the uncertainty of your predictions as a shaded blue area.\n",
        "model.plot(forecast)\n",
        "plt.show()\n"
      ],
      "metadata": {
        "id": "4dbH7Fh_6_iN"
      },
      "execution_count": null,
      "outputs": []
    }
  ]
}