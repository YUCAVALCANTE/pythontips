{
  "nbformat": 4,
  "nbformat_minor": 0,
  "metadata": {
    "colab": {
      "provenance": [],
      "authorship_tag": "ABX9TyMUq/L4YHufstc2odsjcldX",
      "include_colab_link": true
    },
    "kernelspec": {
      "name": "python3",
      "display_name": "Python 3"
    },
    "language_info": {
      "name": "python"
    }
  },
  "cells": [
    {
      "cell_type": "markdown",
      "metadata": {
        "id": "view-in-github",
        "colab_type": "text"
      },
      "source": [
        "<a href=\"https://colab.research.google.com/github/YUCAVALCANTE/pythontips/blob/main/Pandas_Performance_Optimization_linkedin_tips.ipynb\" target=\"_parent\"><img src=\"https://colab.research.google.com/assets/colab-badge.svg\" alt=\"Open In Colab\"/></a>"
      ]
    },
    {
      "cell_type": "markdown",
      "source": [
        "**Use Efficient Data Types:** A simple tweak is to change your columns to lighter data types. For example, converting strings to category or using float32 instead of float64 saves a ton of memory!"
      ],
      "metadata": {
        "id": "y9SvPlO9vVSL"
      }
    },
    {
      "cell_type": "code",
      "execution_count": null,
      "metadata": {
        "id": "t_1BcEKAu8d-"
      },
      "outputs": [],
      "source": [
        "df['column'] = df['column'].astype('category')"
      ]
    },
    {
      "cell_type": "markdown",
      "source": [
        "***Process Data in Chunks: **Rather than loading a massive dataset all at once (which can be overwhelming), try processing it in smaller batches. This method is quicker and much easier on your system."
      ],
      "metadata": {
        "id": "vg3oqFVKvoOU"
      }
    },
    {
      "cell_type": "code",
      "source": [
        "chunks = pd.read_csv('big_data.csv', chunksize=10000)\n",
        "for chunk in chunks:\n",
        "    process_chunk(chunk)\n"
      ],
      "metadata": {
        "id": "Bs8jvutwvMQU"
      },
      "execution_count": null,
      "outputs": []
    },
    {
      "cell_type": "markdown",
      "source": [
        "***Try Dask for the REALLY Big Stuff: ***If Pandas is still having a hard time, Dask can be a game-changer. It processes large datasets in parallel, which speeds up the whole operation significantly."
      ],
      "metadata": {
        "id": "duDmM47rvx1V"
      }
    },
    {
      "cell_type": "code",
      "source": [
        "import dask.dataframe as dd\n",
        "df = dd.read_csv('big_data.csv')"
      ],
      "metadata": {
        "id": "gJPnflunv3Cu"
      },
      "execution_count": null,
      "outputs": []
    }
  ]
}