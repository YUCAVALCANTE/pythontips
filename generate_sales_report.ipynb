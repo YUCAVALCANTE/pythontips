{
  "nbformat": 4,
  "nbformat_minor": 0,
  "metadata": {
    "colab": {
      "provenance": [],
      "authorship_tag": "ABX9TyPafXiQwG5bXHep2BpyLF8r",
      "include_colab_link": true
    },
    "kernelspec": {
      "name": "python3",
      "display_name": "Python 3"
    },
    "language_info": {
      "name": "python"
    }
  },
  "cells": [
    {
      "cell_type": "markdown",
      "metadata": {
        "id": "view-in-github",
        "colab_type": "text"
      },
      "source": [
        "<a href=\"https://colab.research.google.com/github/YUCAVALCANTE/pythontips/blob/main/generate_sales_report.ipynb\" target=\"_parent\"><img src=\"https://colab.research.google.com/assets/colab-badge.svg\" alt=\"Open In Colab\"/></a>"
      ]
    },
    {
      "cell_type": "markdown",
      "source": [],
      "metadata": {
        "id": "9GpuztqfePqw"
      }
    },
    {
      "cell_type": "code",
      "source": [
        "import pandas as pd\n",
        "import matplotlib.pyplot as plt\n",
        "from matplotlib.backends.backend_pdf import PdfPages"
      ],
      "metadata": {
        "id": "ClypWfXaeTQm"
      },
      "execution_count": null,
      "outputs": []
    },
    {
      "cell_type": "markdown",
      "source": [
        "Criando a database de exemplo"
      ],
      "metadata": {
        "id": "1M9R5XobeVn1"
      }
    },
    {
      "cell_type": "code",
      "source": [
        "data = {'Year': [2011, 2012, 2013, 2014, 2015],\n",
        "        'Sales': [200, 300, 350, 280, 310]}\n",
        "df = pd.DataFrame(data)"
      ],
      "metadata": {
        "id": "rHko9zngeWL8"
      },
      "execution_count": null,
      "outputs": []
    },
    {
      "cell_type": "markdown",
      "source": [
        "Criando o grafico"
      ],
      "metadata": {
        "id": "Zjzv5pgneakV"
      }
    },
    {
      "cell_type": "code",
      "source": [
        "plt.figure(figsize=(8, 6))\n",
        "plt.plot(df['Year'], df['Sales'], marker='o', linestyle='-', color='b')\n",
        "plt.title('Yearly Sales')\n",
        "plt.xlabel('Year')\n",
        "plt.ylabel('Sales')\n",
        "plt.grid(True)"
      ],
      "metadata": {
        "id": "m2gDtIGIedaU"
      },
      "execution_count": null,
      "outputs": []
    },
    {
      "cell_type": "markdown",
      "source": [
        "salvando o pdf"
      ],
      "metadata": {
        "id": "syav9fXmedEI"
      }
    },
    {
      "cell_type": "code",
      "execution_count": null,
      "metadata": {
        "colab": {
          "base_uri": "https://localhost:8080/",
          "height": 52
        },
        "id": "8wpPkSf4D_Mb",
        "outputId": "bcd33519-0810-462f-dabe-392502e8b2c5"
      },
      "outputs": [
        {
          "output_type": "stream",
          "name": "stdout",
          "text": [
            "The report has been saved as 'Sales_Report.pdf'\n"
          ]
        },
        {
          "output_type": "display_data",
          "data": {
            "text/plain": [
              "<IPython.core.display.Javascript object>"
            ],
            "application/javascript": [
              "\n",
              "    async function download(id, filename, size) {\n",
              "      if (!google.colab.kernel.accessAllowed) {\n",
              "        return;\n",
              "      }\n",
              "      const div = document.createElement('div');\n",
              "      const label = document.createElement('label');\n",
              "      label.textContent = `Downloading \"${filename}\": `;\n",
              "      div.appendChild(label);\n",
              "      const progress = document.createElement('progress');\n",
              "      progress.max = size;\n",
              "      div.appendChild(progress);\n",
              "      document.body.appendChild(div);\n",
              "\n",
              "      const buffers = [];\n",
              "      let downloaded = 0;\n",
              "\n",
              "      const channel = await google.colab.kernel.comms.open(id);\n",
              "      // Send a message to notify the kernel that we're ready.\n",
              "      channel.send({})\n",
              "\n",
              "      for await (const message of channel.messages) {\n",
              "        // Send a message to notify the kernel that we're ready.\n",
              "        channel.send({})\n",
              "        if (message.buffers) {\n",
              "          for (const buffer of message.buffers) {\n",
              "            buffers.push(buffer);\n",
              "            downloaded += buffer.byteLength;\n",
              "            progress.value = downloaded;\n",
              "          }\n",
              "        }\n",
              "      }\n",
              "      const blob = new Blob(buffers, {type: 'application/binary'});\n",
              "      const a = document.createElement('a');\n",
              "      a.href = window.URL.createObjectURL(blob);\n",
              "      a.download = filename;\n",
              "      div.appendChild(a);\n",
              "      a.click();\n",
              "      div.remove();\n",
              "    }\n",
              "  "
            ]
          },
          "metadata": {}
        },
        {
          "output_type": "display_data",
          "data": {
            "text/plain": [
              "<IPython.core.display.Javascript object>"
            ],
            "application/javascript": [
              "download(\"download_246ea81e-d943-4c86-8f8a-dce2b1fbff31\", \"Sales_Report.pdf\", 9776)"
            ]
          },
          "metadata": {}
        }
      ],
      "source": [
        "with PdfPages('Sales_Report.pdf') as pdf:\n",
        "    pdf.savefig()\n",
        "    plt.close()\n",
        "\n",
        "print(\"The report has been saved as 'Sales_Report.pdf'\")"
      ]
    },
    {
      "cell_type": "markdown",
      "source": [
        "Para baixar no google colab"
      ],
      "metadata": {
        "id": "xZPWyycme1-9"
      }
    },
    {
      "cell_type": "code",
      "source": [
        "try:\n",
        "    from google.colab import files\n",
        "    files.download('Sales_Report.pdf')\n",
        "except ImportError:\n",
        "    print(\"Download manually in Jupyter Notebook by locating the file in the Jupyter file browser.\")\n"
      ],
      "metadata": {
        "id": "GhrEGypge2Ym"
      },
      "execution_count": null,
      "outputs": []
    }
  ]
}