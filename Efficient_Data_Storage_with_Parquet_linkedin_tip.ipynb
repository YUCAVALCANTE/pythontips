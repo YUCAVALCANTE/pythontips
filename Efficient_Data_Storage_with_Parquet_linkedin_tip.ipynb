{
  "nbformat": 4,
  "nbformat_minor": 0,
  "metadata": {
    "colab": {
      "provenance": [],
      "authorship_tag": "ABX9TyO125Zrlq6UrJthPt8Ojrnk",
      "include_colab_link": true
    },
    "kernelspec": {
      "name": "python3",
      "display_name": "Python 3"
    },
    "language_info": {
      "name": "python"
    }
  },
  "cells": [
    {
      "cell_type": "markdown",
      "metadata": {
        "id": "view-in-github",
        "colab_type": "text"
      },
      "source": [
        "<a href=\"https://colab.research.google.com/github/YUCAVALCANTE/pythontips/blob/main/Efficient_Data_Storage_with_Parquet_linkedin_tip.ipynb\" target=\"_parent\"><img src=\"https://colab.research.google.com/assets/colab-badge.svg\" alt=\"Open In Colab\"/></a>"
      ]
    },
    {
      "cell_type": "code",
      "execution_count": null,
      "metadata": {
        "id": "PCx46B5A1i1_"
      },
      "outputs": [],
      "source": [
        "import pandas as pd"
      ]
    },
    {
      "cell_type": "markdown",
      "source": [
        "Load your data into a DataFrame"
      ],
      "metadata": {
        "id": "2eOp2gPA1pGV"
      }
    },
    {
      "cell_type": "code",
      "source": [
        "data = pd.read_csv('your_data.csv')"
      ],
      "metadata": {
        "id": "73n8QueW1ptE"
      },
      "execution_count": null,
      "outputs": []
    },
    {
      "cell_type": "markdown",
      "source": [
        "Save as Parquet"
      ],
      "metadata": {
        "id": "IkscUhN211pF"
      }
    },
    {
      "cell_type": "code",
      "source": [
        "data.to_parquet('data.parquet')"
      ],
      "metadata": {
        "id": "50YQpMt3115g"
      },
      "execution_count": null,
      "outputs": []
    },
    {
      "cell_type": "markdown",
      "source": [
        "And here’s how to read it back"
      ],
      "metadata": {
        "id": "x4nk1vmx12E-"
      }
    },
    {
      "cell_type": "code",
      "source": [
        "data = pd.read_parquet('data.parquet')"
      ],
      "metadata": {
        "id": "10uX29K612PT"
      },
      "execution_count": null,
      "outputs": []
    }
  ]
}