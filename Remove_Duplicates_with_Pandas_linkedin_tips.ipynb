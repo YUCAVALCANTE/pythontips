{
  "nbformat": 4,
  "nbformat_minor": 0,
  "metadata": {
    "colab": {
      "provenance": [],
      "authorship_tag": "ABX9TyMfO6rdWEdTKJKfgfDuh1IM",
      "include_colab_link": true
    },
    "kernelspec": {
      "name": "python3",
      "display_name": "Python 3"
    },
    "language_info": {
      "name": "python"
    }
  },
  "cells": [
    {
      "cell_type": "markdown",
      "metadata": {
        "id": "view-in-github",
        "colab_type": "text"
      },
      "source": [
        "<a href=\"https://colab.research.google.com/github/YUCAVALCANTE/pythontips/blob/main/Remove_Duplicates_with_Pandas_linkedin_tips.ipynb\" target=\"_parent\"><img src=\"https://colab.research.google.com/assets/colab-badge.svg\" alt=\"Open In Colab\"/></a>"
      ]
    },
    {
      "cell_type": "code",
      "source": [
        "import pandas as pd"
      ],
      "metadata": {
        "id": "OvPRvBx7y9F5"
      },
      "execution_count": null,
      "outputs": []
    },
    {
      "cell_type": "markdown",
      "source": [
        "Load your dataset"
      ],
      "metadata": {
        "id": "7ujpFRTny9Rt"
      }
    },
    {
      "cell_type": "code",
      "source": [
        "data = pd.read_csv('your_data.csv')"
      ],
      "metadata": {
        "id": "nLVeK3UZy9Z0"
      },
      "execution_count": null,
      "outputs": []
    },
    {
      "cell_type": "markdown",
      "source": [
        "Remove duplicates"
      ],
      "metadata": {
        "id": "m0J17A3Zy9gz"
      }
    },
    {
      "cell_type": "code",
      "source": [
        "clean_data = data.drop_duplicates()"
      ],
      "metadata": {
        "id": "jBBf_7_Ny9o5"
      },
      "execution_count": null,
      "outputs": []
    },
    {
      "cell_type": "markdown",
      "source": [
        "Save the cleaned data"
      ],
      "metadata": {
        "id": "FdZveS3Fy9vt"
      }
    },
    {
      "cell_type": "code",
      "source": [
        "clean_data.to_csv('cleaned_data.csv', index=False)"
      ],
      "metadata": {
        "id": "trSu0Jgny92i"
      },
      "execution_count": null,
      "outputs": []
    }
  ]
}