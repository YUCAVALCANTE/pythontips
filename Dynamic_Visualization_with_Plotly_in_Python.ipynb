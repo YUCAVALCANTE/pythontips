{
  "nbformat": 4,
  "nbformat_minor": 0,
  "metadata": {
    "colab": {
      "provenance": [],
      "authorship_tag": "ABX9TyNSWVDgQWIoQ3pQ8ylvNGrD",
      "include_colab_link": true
    },
    "kernelspec": {
      "name": "python3",
      "display_name": "Python 3"
    },
    "language_info": {
      "name": "python"
    }
  },
  "cells": [
    {
      "cell_type": "markdown",
      "metadata": {
        "id": "view-in-github",
        "colab_type": "text"
      },
      "source": [
        "<a href=\"https://colab.research.google.com/github/YUCAVALCANTE/pythontips/blob/main/Dynamic_Visualization_with_Plotly_in_Python.ipynb\" target=\"_parent\"><img src=\"https://colab.research.google.com/assets/colab-badge.svg\" alt=\"Open In Colab\"/></a>"
      ]
    },
    {
      "cell_type": "markdown",
      "source": [
        "##Example 1: Basic Time Series Visualization with Plotly\n",
        "\n",
        "Let's kick off our Plotly exploration with something fundamental yet impactful. We’ll start by visualizing time series data, which could represent anything from daily temperatures to stock market prices. This example will show you how to turn static data into an interactive line chart that reveals patterns over time."
      ],
      "metadata": {
        "id": "vIHnY88x4MdO"
      }
    },
    {
      "cell_type": "code",
      "execution_count": 2,
      "metadata": {
        "colab": {
          "base_uri": "https://localhost:8080/",
          "height": 542
        },
        "id": "NYLV11dO4Enx",
        "outputId": "79c4a150-39c2-49cb-a674-84381572d7a8"
      },
      "outputs": [
        {
          "output_type": "display_data",
          "data": {
            "text/html": [
              "<html>\n",
              "<head><meta charset=\"utf-8\" /></head>\n",
              "<body>\n",
              "    <div>            <script src=\"https://cdnjs.cloudflare.com/ajax/libs/mathjax/2.7.5/MathJax.js?config=TeX-AMS-MML_SVG\"></script><script type=\"text/javascript\">if (window.MathJax && window.MathJax.Hub && window.MathJax.Hub.Config) {window.MathJax.Hub.Config({SVG: {font: \"STIX-Web\"}});}</script>                <script type=\"text/javascript\">window.PlotlyConfig = {MathJaxConfig: 'local'};</script>\n",
              "        <script charset=\"utf-8\" src=\"https://cdn.plot.ly/plotly-2.35.2.min.js\"></script>                <div id=\"56060cf0-bc27-4e18-bbf2-e8cbf44a4d3a\" class=\"plotly-graph-div\" style=\"height:525px; width:100%;\"></div>            <script type=\"text/javascript\">                                    window.PLOTLYENV=window.PLOTLYENV || {};                                    if (document.getElementById(\"56060cf0-bc27-4e18-bbf2-e8cbf44a4d3a\")) {                    Plotly.newPlot(                        \"56060cf0-bc27-4e18-bbf2-e8cbf44a4d3a\",                        [{\"hovertemplate\":\"Date=%{x}\\u003cbr\\u003eValue=%{y}\\u003cextra\\u003e\\u003c\\u002fextra\\u003e\",\"legendgroup\":\"\",\"line\":{\"color\":\"#636efa\",\"dash\":\"solid\"},\"marker\":{\"symbol\":\"circle\"},\"mode\":\"lines\",\"name\":\"\",\"orientation\":\"v\",\"showlegend\":false,\"x\":[\"2024-01-01T00:00:00\",\"2024-01-02T00:00:00\",\"2024-01-03T00:00:00\",\"2024-01-04T00:00:00\",\"2024-01-05T00:00:00\",\"2024-01-06T00:00:00\",\"2024-01-07T00:00:00\",\"2024-01-08T00:00:00\",\"2024-01-09T00:00:00\",\"2024-01-10T00:00:00\",\"2024-01-11T00:00:00\",\"2024-01-12T00:00:00\",\"2024-01-13T00:00:00\",\"2024-01-14T00:00:00\",\"2024-01-15T00:00:00\",\"2024-01-16T00:00:00\",\"2024-01-17T00:00:00\",\"2024-01-18T00:00:00\",\"2024-01-19T00:00:00\",\"2024-01-20T00:00:00\",\"2024-01-21T00:00:00\",\"2024-01-22T00:00:00\",\"2024-01-23T00:00:00\",\"2024-01-24T00:00:00\",\"2024-01-25T00:00:00\",\"2024-01-26T00:00:00\",\"2024-01-27T00:00:00\",\"2024-01-28T00:00:00\",\"2024-01-29T00:00:00\",\"2024-01-30T00:00:00\",\"2024-01-31T00:00:00\",\"2024-02-01T00:00:00\",\"2024-02-02T00:00:00\",\"2024-02-03T00:00:00\",\"2024-02-04T00:00:00\",\"2024-02-05T00:00:00\",\"2024-02-06T00:00:00\",\"2024-02-07T00:00:00\",\"2024-02-08T00:00:00\",\"2024-02-09T00:00:00\",\"2024-02-10T00:00:00\",\"2024-02-11T00:00:00\",\"2024-02-12T00:00:00\",\"2024-02-13T00:00:00\",\"2024-02-14T00:00:00\",\"2024-02-15T00:00:00\",\"2024-02-16T00:00:00\",\"2024-02-17T00:00:00\",\"2024-02-18T00:00:00\",\"2024-02-19T00:00:00\",\"2024-02-20T00:00:00\",\"2024-02-21T00:00:00\",\"2024-02-22T00:00:00\",\"2024-02-23T00:00:00\",\"2024-02-24T00:00:00\",\"2024-02-25T00:00:00\",\"2024-02-26T00:00:00\",\"2024-02-27T00:00:00\",\"2024-02-28T00:00:00\",\"2024-02-29T00:00:00\",\"2024-03-01T00:00:00\",\"2024-03-02T00:00:00\",\"2024-03-03T00:00:00\",\"2024-03-04T00:00:00\",\"2024-03-05T00:00:00\",\"2024-03-06T00:00:00\",\"2024-03-07T00:00:00\",\"2024-03-08T00:00:00\",\"2024-03-09T00:00:00\",\"2024-03-10T00:00:00\",\"2024-03-11T00:00:00\",\"2024-03-12T00:00:00\",\"2024-03-13T00:00:00\",\"2024-03-14T00:00:00\",\"2024-03-15T00:00:00\",\"2024-03-16T00:00:00\",\"2024-03-17T00:00:00\",\"2024-03-18T00:00:00\",\"2024-03-19T00:00:00\",\"2024-03-20T00:00:00\",\"2024-03-21T00:00:00\",\"2024-03-22T00:00:00\",\"2024-03-23T00:00:00\",\"2024-03-24T00:00:00\",\"2024-03-25T00:00:00\",\"2024-03-26T00:00:00\",\"2024-03-27T00:00:00\",\"2024-03-28T00:00:00\",\"2024-03-29T00:00:00\",\"2024-03-30T00:00:00\",\"2024-03-31T00:00:00\",\"2024-04-01T00:00:00\",\"2024-04-02T00:00:00\",\"2024-04-03T00:00:00\",\"2024-04-04T00:00:00\",\"2024-04-05T00:00:00\",\"2024-04-06T00:00:00\",\"2024-04-07T00:00:00\",\"2024-04-08T00:00:00\",\"2024-04-09T00:00:00\"],\"xaxis\":\"x\",\"y\":[14.309931153617281,17.655248259138958,5.882376273086588,41.51675469585663,-9.438434515684275,35.34558126719014,10.068421813043981,33.86249746849486,12.282447369363174,29.987330027690305,30.093700150674593,35.9361075495997,12.745802365399781,20.752839720945282,33.82493955210271,38.77312499554316,10.042869878785403,32.02953888472563,28.190770794133325,31.614001980979385,47.38169585030634,30.00566103086096,27.215172888523462,43.52577101698595,22.08414034401086,48.571752198604834,44.81144339719917,34.72974416775922,48.087669512304984,26.196725079446324,22.80186884568578,38.31473962610548,45.44582994130944,53.93708860263442,28.769971547404193,27.05602548428696,59.55166549435611,34.621993052166516,36.16230547387204,50.22640618591156,38.80669495435261,54.059849633213055,42.588504383379195,46.394551744188966,44.22594007224546,54.88196956118508,36.134123749469815,48.24367784723531,42.013347140676544,42.02598587868657,63.57402306096479,49.6599992632993,60.82758531482248,67.22854676543119,58.05555159652723,65.64196697248603,68.64279545253324,65.26629196105344,58.94978346570068,56.03486613322391,56.53956118327123,79.22557662249068,70.93465037553662,60.401924925898506,80.84549653949122,77.66649164745633,65.30661043536001,75.19957640472408,83.63011728380425,74.32243212678291,79.5383045905588,83.93555659272364,91.9802271243772,74.43817351796069,67.58138844287987,83.16154432227006,69.75919222051282,83.56048036727246,75.48066788690556,72.1254256276842,79.54420242030243,75.49164471471143,90.49448385037678,75.58119630538407,96.92977731050213,91.71920812529858,100.79077485197209,97.78018493005747,80.92579433326804,77.13438848611717,89.35288567330262,69.8472541383257,98.87266291301229,99.37297583253137,78.87904502473528,96.27081109474882,90.223362847766,94.59365150634278,103.15132008296213,98.47676547688383],\"yaxis\":\"y\",\"type\":\"scatter\"}],                        {\"template\":{\"data\":{\"histogram2dcontour\":[{\"type\":\"histogram2dcontour\",\"colorbar\":{\"outlinewidth\":0,\"ticks\":\"\"},\"colorscale\":[[0.0,\"#0d0887\"],[0.1111111111111111,\"#46039f\"],[0.2222222222222222,\"#7201a8\"],[0.3333333333333333,\"#9c179e\"],[0.4444444444444444,\"#bd3786\"],[0.5555555555555556,\"#d8576b\"],[0.6666666666666666,\"#ed7953\"],[0.7777777777777778,\"#fb9f3a\"],[0.8888888888888888,\"#fdca26\"],[1.0,\"#f0f921\"]]}],\"choropleth\":[{\"type\":\"choropleth\",\"colorbar\":{\"outlinewidth\":0,\"ticks\":\"\"}}],\"histogram2d\":[{\"type\":\"histogram2d\",\"colorbar\":{\"outlinewidth\":0,\"ticks\":\"\"},\"colorscale\":[[0.0,\"#0d0887\"],[0.1111111111111111,\"#46039f\"],[0.2222222222222222,\"#7201a8\"],[0.3333333333333333,\"#9c179e\"],[0.4444444444444444,\"#bd3786\"],[0.5555555555555556,\"#d8576b\"],[0.6666666666666666,\"#ed7953\"],[0.7777777777777778,\"#fb9f3a\"],[0.8888888888888888,\"#fdca26\"],[1.0,\"#f0f921\"]]}],\"heatmap\":[{\"type\":\"heatmap\",\"colorbar\":{\"outlinewidth\":0,\"ticks\":\"\"},\"colorscale\":[[0.0,\"#0d0887\"],[0.1111111111111111,\"#46039f\"],[0.2222222222222222,\"#7201a8\"],[0.3333333333333333,\"#9c179e\"],[0.4444444444444444,\"#bd3786\"],[0.5555555555555556,\"#d8576b\"],[0.6666666666666666,\"#ed7953\"],[0.7777777777777778,\"#fb9f3a\"],[0.8888888888888888,\"#fdca26\"],[1.0,\"#f0f921\"]]}],\"heatmapgl\":[{\"type\":\"heatmapgl\",\"colorbar\":{\"outlinewidth\":0,\"ticks\":\"\"},\"colorscale\":[[0.0,\"#0d0887\"],[0.1111111111111111,\"#46039f\"],[0.2222222222222222,\"#7201a8\"],[0.3333333333333333,\"#9c179e\"],[0.4444444444444444,\"#bd3786\"],[0.5555555555555556,\"#d8576b\"],[0.6666666666666666,\"#ed7953\"],[0.7777777777777778,\"#fb9f3a\"],[0.8888888888888888,\"#fdca26\"],[1.0,\"#f0f921\"]]}],\"contourcarpet\":[{\"type\":\"contourcarpet\",\"colorbar\":{\"outlinewidth\":0,\"ticks\":\"\"}}],\"contour\":[{\"type\":\"contour\",\"colorbar\":{\"outlinewidth\":0,\"ticks\":\"\"},\"colorscale\":[[0.0,\"#0d0887\"],[0.1111111111111111,\"#46039f\"],[0.2222222222222222,\"#7201a8\"],[0.3333333333333333,\"#9c179e\"],[0.4444444444444444,\"#bd3786\"],[0.5555555555555556,\"#d8576b\"],[0.6666666666666666,\"#ed7953\"],[0.7777777777777778,\"#fb9f3a\"],[0.8888888888888888,\"#fdca26\"],[1.0,\"#f0f921\"]]}],\"surface\":[{\"type\":\"surface\",\"colorbar\":{\"outlinewidth\":0,\"ticks\":\"\"},\"colorscale\":[[0.0,\"#0d0887\"],[0.1111111111111111,\"#46039f\"],[0.2222222222222222,\"#7201a8\"],[0.3333333333333333,\"#9c179e\"],[0.4444444444444444,\"#bd3786\"],[0.5555555555555556,\"#d8576b\"],[0.6666666666666666,\"#ed7953\"],[0.7777777777777778,\"#fb9f3a\"],[0.8888888888888888,\"#fdca26\"],[1.0,\"#f0f921\"]]}],\"mesh3d\":[{\"type\":\"mesh3d\",\"colorbar\":{\"outlinewidth\":0,\"ticks\":\"\"}}],\"scatter\":[{\"fillpattern\":{\"fillmode\":\"overlay\",\"size\":10,\"solidity\":0.2},\"type\":\"scatter\"}],\"parcoords\":[{\"type\":\"parcoords\",\"line\":{\"colorbar\":{\"outlinewidth\":0,\"ticks\":\"\"}}}],\"scatterpolargl\":[{\"type\":\"scatterpolargl\",\"marker\":{\"colorbar\":{\"outlinewidth\":0,\"ticks\":\"\"}}}],\"bar\":[{\"error_x\":{\"color\":\"#2a3f5f\"},\"error_y\":{\"color\":\"#2a3f5f\"},\"marker\":{\"line\":{\"color\":\"#E5ECF6\",\"width\":0.5},\"pattern\":{\"fillmode\":\"overlay\",\"size\":10,\"solidity\":0.2}},\"type\":\"bar\"}],\"scattergeo\":[{\"type\":\"scattergeo\",\"marker\":{\"colorbar\":{\"outlinewidth\":0,\"ticks\":\"\"}}}],\"scatterpolar\":[{\"type\":\"scatterpolar\",\"marker\":{\"colorbar\":{\"outlinewidth\":0,\"ticks\":\"\"}}}],\"histogram\":[{\"marker\":{\"pattern\":{\"fillmode\":\"overlay\",\"size\":10,\"solidity\":0.2}},\"type\":\"histogram\"}],\"scattergl\":[{\"type\":\"scattergl\",\"marker\":{\"colorbar\":{\"outlinewidth\":0,\"ticks\":\"\"}}}],\"scatter3d\":[{\"type\":\"scatter3d\",\"line\":{\"colorbar\":{\"outlinewidth\":0,\"ticks\":\"\"}},\"marker\":{\"colorbar\":{\"outlinewidth\":0,\"ticks\":\"\"}}}],\"scattermapbox\":[{\"type\":\"scattermapbox\",\"marker\":{\"colorbar\":{\"outlinewidth\":0,\"ticks\":\"\"}}}],\"scatterternary\":[{\"type\":\"scatterternary\",\"marker\":{\"colorbar\":{\"outlinewidth\":0,\"ticks\":\"\"}}}],\"scattercarpet\":[{\"type\":\"scattercarpet\",\"marker\":{\"colorbar\":{\"outlinewidth\":0,\"ticks\":\"\"}}}],\"carpet\":[{\"aaxis\":{\"endlinecolor\":\"#2a3f5f\",\"gridcolor\":\"white\",\"linecolor\":\"white\",\"minorgridcolor\":\"white\",\"startlinecolor\":\"#2a3f5f\"},\"baxis\":{\"endlinecolor\":\"#2a3f5f\",\"gridcolor\":\"white\",\"linecolor\":\"white\",\"minorgridcolor\":\"white\",\"startlinecolor\":\"#2a3f5f\"},\"type\":\"carpet\"}],\"table\":[{\"cells\":{\"fill\":{\"color\":\"#EBF0F8\"},\"line\":{\"color\":\"white\"}},\"header\":{\"fill\":{\"color\":\"#C8D4E3\"},\"line\":{\"color\":\"white\"}},\"type\":\"table\"}],\"barpolar\":[{\"marker\":{\"line\":{\"color\":\"#E5ECF6\",\"width\":0.5},\"pattern\":{\"fillmode\":\"overlay\",\"size\":10,\"solidity\":0.2}},\"type\":\"barpolar\"}],\"pie\":[{\"automargin\":true,\"type\":\"pie\"}]},\"layout\":{\"autotypenumbers\":\"strict\",\"colorway\":[\"#636efa\",\"#EF553B\",\"#00cc96\",\"#ab63fa\",\"#FFA15A\",\"#19d3f3\",\"#FF6692\",\"#B6E880\",\"#FF97FF\",\"#FECB52\"],\"font\":{\"color\":\"#2a3f5f\"},\"hovermode\":\"closest\",\"hoverlabel\":{\"align\":\"left\"},\"paper_bgcolor\":\"white\",\"plot_bgcolor\":\"#E5ECF6\",\"polar\":{\"bgcolor\":\"#E5ECF6\",\"angularaxis\":{\"gridcolor\":\"white\",\"linecolor\":\"white\",\"ticks\":\"\"},\"radialaxis\":{\"gridcolor\":\"white\",\"linecolor\":\"white\",\"ticks\":\"\"}},\"ternary\":{\"bgcolor\":\"#E5ECF6\",\"aaxis\":{\"gridcolor\":\"white\",\"linecolor\":\"white\",\"ticks\":\"\"},\"baxis\":{\"gridcolor\":\"white\",\"linecolor\":\"white\",\"ticks\":\"\"},\"caxis\":{\"gridcolor\":\"white\",\"linecolor\":\"white\",\"ticks\":\"\"}},\"coloraxis\":{\"colorbar\":{\"outlinewidth\":0,\"ticks\":\"\"}},\"colorscale\":{\"sequential\":[[0.0,\"#0d0887\"],[0.1111111111111111,\"#46039f\"],[0.2222222222222222,\"#7201a8\"],[0.3333333333333333,\"#9c179e\"],[0.4444444444444444,\"#bd3786\"],[0.5555555555555556,\"#d8576b\"],[0.6666666666666666,\"#ed7953\"],[0.7777777777777778,\"#fb9f3a\"],[0.8888888888888888,\"#fdca26\"],[1.0,\"#f0f921\"]],\"sequentialminus\":[[0.0,\"#0d0887\"],[0.1111111111111111,\"#46039f\"],[0.2222222222222222,\"#7201a8\"],[0.3333333333333333,\"#9c179e\"],[0.4444444444444444,\"#bd3786\"],[0.5555555555555556,\"#d8576b\"],[0.6666666666666666,\"#ed7953\"],[0.7777777777777778,\"#fb9f3a\"],[0.8888888888888888,\"#fdca26\"],[1.0,\"#f0f921\"]],\"diverging\":[[0,\"#8e0152\"],[0.1,\"#c51b7d\"],[0.2,\"#de77ae\"],[0.3,\"#f1b6da\"],[0.4,\"#fde0ef\"],[0.5,\"#f7f7f7\"],[0.6,\"#e6f5d0\"],[0.7,\"#b8e186\"],[0.8,\"#7fbc41\"],[0.9,\"#4d9221\"],[1,\"#276419\"]]},\"xaxis\":{\"gridcolor\":\"white\",\"linecolor\":\"white\",\"ticks\":\"\",\"title\":{\"standoff\":15},\"zerolinecolor\":\"white\",\"automargin\":true,\"zerolinewidth\":2},\"yaxis\":{\"gridcolor\":\"white\",\"linecolor\":\"white\",\"ticks\":\"\",\"title\":{\"standoff\":15},\"zerolinecolor\":\"white\",\"automargin\":true,\"zerolinewidth\":2},\"scene\":{\"xaxis\":{\"backgroundcolor\":\"#E5ECF6\",\"gridcolor\":\"white\",\"linecolor\":\"white\",\"showbackground\":true,\"ticks\":\"\",\"zerolinecolor\":\"white\",\"gridwidth\":2},\"yaxis\":{\"backgroundcolor\":\"#E5ECF6\",\"gridcolor\":\"white\",\"linecolor\":\"white\",\"showbackground\":true,\"ticks\":\"\",\"zerolinecolor\":\"white\",\"gridwidth\":2},\"zaxis\":{\"backgroundcolor\":\"#E5ECF6\",\"gridcolor\":\"white\",\"linecolor\":\"white\",\"showbackground\":true,\"ticks\":\"\",\"zerolinecolor\":\"white\",\"gridwidth\":2}},\"shapedefaults\":{\"line\":{\"color\":\"#2a3f5f\"}},\"annotationdefaults\":{\"arrowcolor\":\"#2a3f5f\",\"arrowhead\":0,\"arrowwidth\":1},\"geo\":{\"bgcolor\":\"white\",\"landcolor\":\"#E5ECF6\",\"subunitcolor\":\"white\",\"showland\":true,\"showlakes\":true,\"lakecolor\":\"white\"},\"title\":{\"x\":0.05},\"mapbox\":{\"style\":\"light\"}}},\"xaxis\":{\"anchor\":\"y\",\"domain\":[0.0,1.0],\"title\":{\"text\":\"Date\"}},\"yaxis\":{\"anchor\":\"x\",\"domain\":[0.0,1.0],\"title\":{\"text\":\"Value\"}},\"legend\":{\"tracegroupgap\":0},\"title\":{\"text\":\"Daily Data Trends\",\"font\":{\"size\":20}},\"hovermode\":\"x unified\"},                        {\"responsive\": true}                    ).then(function(){\n",
              "                            \n",
              "var gd = document.getElementById('56060cf0-bc27-4e18-bbf2-e8cbf44a4d3a');\n",
              "var x = new MutationObserver(function (mutations, observer) {{\n",
              "        var display = window.getComputedStyle(gd).display;\n",
              "        if (!display || display === 'none') {{\n",
              "            console.log([gd, 'removed!']);\n",
              "            Plotly.purge(gd);\n",
              "            observer.disconnect();\n",
              "        }}\n",
              "}});\n",
              "\n",
              "// Listen for the removal of the full notebook cells\n",
              "var notebookContainer = gd.closest('#notebook-container');\n",
              "if (notebookContainer) {{\n",
              "    x.observe(notebookContainer, {childList: true});\n",
              "}}\n",
              "\n",
              "// Listen for the clearing of the current output cell\n",
              "var outputEl = gd.closest('.output');\n",
              "if (outputEl) {{\n",
              "    x.observe(outputEl, {childList: true});\n",
              "}}\n",
              "\n",
              "                        })                };                            </script>        </div>\n",
              "</body>\n",
              "</html>"
            ]
          },
          "metadata": {}
        }
      ],
      "source": [
        "# Importing necessary libraries\n",
        "import pandas as pd\n",
        "import numpy as np\n",
        "import plotly.express as px\n",
        "\n",
        "# Creating a sample dataframe\n",
        "df = pd.DataFrame({\n",
        "    \"Date\": pd.date_range(start=\"2024-01-01\", periods=100, freq='D'),\n",
        "    \"Value\": (np.linspace(start=10, stop=100, num=100) + np.random.randn(100)*10).tolist()\n",
        "})\n",
        "\n",
        "# Creating a line chart using Plotly Express\n",
        "fig = px.line(df, x='Date', y='Value', title='Daily Data Trends')\n",
        "\n",
        "# Enhancing the chart with interactive features\n",
        "fig.update_layout(hovermode='x unified', title_font_size=20)\n",
        "\n",
        "# Display the figure\n",
        "fig.show()\n"
      ]
    },
    {
      "cell_type": "markdown",
      "source": [
        "# Example 2: Clustering Insights with Interactive Scatter Plots\n",
        "\n",
        "For the second example in the series on using Plotly for dynamic data visualization, let's create an interactive scatter plot that highlights different clusters within the data. This example will be a bit more advanced, featuring color-coded groups and the ability to hover over data points to get more detailed information."
      ],
      "metadata": {
        "id": "6SV_u3f_7ypb"
      }
    },
    {
      "cell_type": "code",
      "source": [
        "# Importing necessary libraries\n",
        "import pandas as pd\n",
        "import numpy as np\n",
        "import plotly.express as px\n",
        "\n",
        "# Generating synthetic data\n",
        "np.random.seed(0)\n",
        "df = pd.DataFrame({\n",
        "    'Feature1': np.random.normal(20, 5, 200),\n",
        "    'Feature2': np.random.normal(60, 10, 200),\n",
        "    'Group': np.random.choice(['Group 1', 'Group 2', 'Group 3'], 200)\n",
        "})\n",
        "\n",
        "# Creating an interactive scatter plot\n",
        "fig = px.scatter(df, x='Feature1', y='Feature2', color='Group',\n",
        "                 title='Interactive Scatter Plot: Feature Analysis',\n",
        "                 labels={'Feature1': 'Metric 1', 'Feature2': 'Metric 2'},\n",
        "                 hover_data=['Group'])\n",
        "\n",
        "# Enhancing the plot with interactive components\n",
        "fig.update_traces(marker=dict(size=12,\n",
        "                              line=dict(width=2,\n",
        "                                        color='DarkSlateGrey')),\n",
        "                  selector=dict(mode='markers'))\n",
        "fig.update_layout(hovermode='closest', title_font_size=20)\n",
        "\n",
        "# Display the figure\n",
        "fig.show()\n"
      ],
      "metadata": {
        "colab": {
          "base_uri": "https://localhost:8080/",
          "height": 542
        },
        "id": "6SXTkBeD73Ez",
        "outputId": "b3e4f41f-13db-439c-f7b3-856fc60501da"
      },
      "execution_count": 3,
      "outputs": [
        {
          "output_type": "display_data",
          "data": {
            "text/html": [
              "<html>\n",
              "<head><meta charset=\"utf-8\" /></head>\n",
              "<body>\n",
              "    <div>            <script src=\"https://cdnjs.cloudflare.com/ajax/libs/mathjax/2.7.5/MathJax.js?config=TeX-AMS-MML_SVG\"></script><script type=\"text/javascript\">if (window.MathJax && window.MathJax.Hub && window.MathJax.Hub.Config) {window.MathJax.Hub.Config({SVG: {font: \"STIX-Web\"}});}</script>                <script type=\"text/javascript\">window.PlotlyConfig = {MathJaxConfig: 'local'};</script>\n",
              "        <script charset=\"utf-8\" src=\"https://cdn.plot.ly/plotly-2.35.2.min.js\"></script>                <div id=\"0d71b075-1546-42a6-ad41-d34c46e62931\" class=\"plotly-graph-div\" style=\"height:525px; width:100%;\"></div>            <script type=\"text/javascript\">                                    window.PLOTLYENV=window.PLOTLYENV || {};                                    if (document.getElementById(\"0d71b075-1546-42a6-ad41-d34c46e62931\")) {                    Plotly.newPlot(                        \"0d71b075-1546-42a6-ad41-d34c46e62931\",                        [{\"customdata\":[[\"Group 2\"],[\"Group 2\"],[\"Group 2\"],[\"Group 2\"],[\"Group 2\"],[\"Group 2\"],[\"Group 2\"],[\"Group 2\"],[\"Group 2\"],[\"Group 2\"],[\"Group 2\"],[\"Group 2\"],[\"Group 2\"],[\"Group 2\"],[\"Group 2\"],[\"Group 2\"],[\"Group 2\"],[\"Group 2\"],[\"Group 2\"],[\"Group 2\"],[\"Group 2\"],[\"Group 2\"],[\"Group 2\"],[\"Group 2\"],[\"Group 2\"],[\"Group 2\"],[\"Group 2\"],[\"Group 2\"],[\"Group 2\"],[\"Group 2\"],[\"Group 2\"],[\"Group 2\"],[\"Group 2\"],[\"Group 2\"],[\"Group 2\"],[\"Group 2\"],[\"Group 2\"],[\"Group 2\"],[\"Group 2\"],[\"Group 2\"],[\"Group 2\"],[\"Group 2\"],[\"Group 2\"],[\"Group 2\"],[\"Group 2\"],[\"Group 2\"],[\"Group 2\"],[\"Group 2\"],[\"Group 2\"],[\"Group 2\"],[\"Group 2\"],[\"Group 2\"],[\"Group 2\"],[\"Group 2\"],[\"Group 2\"],[\"Group 2\"],[\"Group 2\"],[\"Group 2\"],[\"Group 2\"],[\"Group 2\"],[\"Group 2\"],[\"Group 2\"],[\"Group 2\"],[\"Group 2\"],[\"Group 2\"],[\"Group 2\"],[\"Group 2\"]],\"hovertemplate\":\"Group=%{customdata[0]}\\u003cbr\\u003eMetric 1=%{x}\\u003cbr\\u003eMetric 2=%{y}\\u003cextra\\u003e\\u003c\\u002fextra\\u003e\",\"legendgroup\":\"Group 2\",\"marker\":{\"color\":\"#636efa\",\"symbol\":\"circle\",\"line\":{\"color\":\"DarkSlateGrey\",\"width\":2},\"size\":12},\"mode\":\"markers\",\"name\":\"Group 2\",\"orientation\":\"v\",\"showlegend\":true,\"x\":[28.82026172983832,31.20446599600729,15.113610600617946,19.24321395851151,20.72021785580439,21.668371636871335,23.268092977201803,24.32218099429753,31.348773119938038,20.22879258650723,19.064080749870833,21.890812598010868,18.26043925336924,20.7817448455199,18.488486247123323,14.757235174664537,23.88745177915955,11.930510762210243,18.936298598930158,15.522667194031623,16.82838953159518,16.637697761120243,11.368586988341615,11.849008265169777,23.645452810887683,16.575949545298435,20.280826711148727,22.3283121986523,29.479445880152916,17.9841152651341,26.112225351912137,21.0413748903843,24.883195182418564,20.6345604635181,14.1343829744292,24.73625983886874,19.22494953454583,24.611033357832632,14.502996047079026,21.49119087103028,26.63192948343515,17.82423224139181,29.24631864239671,16.150419627773417,22.696245956459087,16.62833669671312,20.159152791371756,15.435888872779207,13.420462947442395,17.692076975926454,16.2762258897578,25.633179610532537,14.600342458182883,17.509837746538476,13.87282240584916,14.998923263052177,21.58471305962425,21.593638264715107,24.284153059513457,23.407972591408136,15.982951679130794,16.552251111248996,13.125243532909906,23.126157255135936,11.989711721966263,19.803585908862523,24.117520769818658],\"xaxis\":\"x\",\"y\":[56.30818162057557,66.55263730722598,43.830439556891655,52.61969090794311,69.10178908092593,55.899503067974514,56.540182243006136,55.36404025353906,44.592029855553754,61.56506537965375,62.32181036200276,55.066801166378056,48.438175681780876,67.81198101709994,66.76908035030246,53.625629744477706,70.79618592036822,51.86635740795797,45.33575672197486,65.21064876452759,44.170616026649185,48.111407422159715,59.47432703730454,65.23891023834206,63.9904634564013,56.09046624812399,80.6449286135932,53.079501522156086,66.08843834475451,53.71912440358421,55.18972881539212,83.03916697683943,49.39984177278453,56.005509707371246,66.66383082031915,59.57828548709421,57.13112807610092,58.92694723708826,51.870070114459224,62.745163577239396,51.09084917004472,58.42332983836184,82.56723497298209,67.47188334204631,48.11055044796264,67.73252977402599,48.16119359806682,56.35306455608315,65.78521497728879,63.49654456993174,73.64531848102472,41.56930449843351,55.22025995959513,66.98457149107335,59.84317888397445,58.093465064186006,48.71988668529993,50.06876389070419,68.41631264073636,64.93836776280956,66.43314465062927,44.293765913665474,63.87280475395063,60.38630551840188,43.43284897678046,56.46568251242801,71.41101866657573],\"yaxis\":\"y\",\"type\":\"scatter\"},{\"customdata\":[[\"Group 1\"],[\"Group 1\"],[\"Group 1\"],[\"Group 1\"],[\"Group 1\"],[\"Group 1\"],[\"Group 1\"],[\"Group 1\"],[\"Group 1\"],[\"Group 1\"],[\"Group 1\"],[\"Group 1\"],[\"Group 1\"],[\"Group 1\"],[\"Group 1\"],[\"Group 1\"],[\"Group 1\"],[\"Group 1\"],[\"Group 1\"],[\"Group 1\"],[\"Group 1\"],[\"Group 1\"],[\"Group 1\"],[\"Group 1\"],[\"Group 1\"],[\"Group 1\"],[\"Group 1\"],[\"Group 1\"],[\"Group 1\"],[\"Group 1\"],[\"Group 1\"],[\"Group 1\"],[\"Group 1\"],[\"Group 1\"],[\"Group 1\"],[\"Group 1\"],[\"Group 1\"],[\"Group 1\"],[\"Group 1\"],[\"Group 1\"],[\"Group 1\"],[\"Group 1\"],[\"Group 1\"],[\"Group 1\"],[\"Group 1\"],[\"Group 1\"],[\"Group 1\"],[\"Group 1\"],[\"Group 1\"],[\"Group 1\"],[\"Group 1\"],[\"Group 1\"],[\"Group 1\"],[\"Group 1\"],[\"Group 1\"],[\"Group 1\"],[\"Group 1\"],[\"Group 1\"],[\"Group 1\"],[\"Group 1\"],[\"Group 1\"],[\"Group 1\"],[\"Group 1\"],[\"Group 1\"],[\"Group 1\"],[\"Group 1\"],[\"Group 1\"]],\"hovertemplate\":\"Group=%{customdata[0]}\\u003cbr\\u003eMetric 1=%{x}\\u003cbr\\u003eMetric 2=%{y}\\u003cextra\\u003e\\u003c\\u002fextra\\u003e\",\"legendgroup\":\"Group 1\",\"marker\":{\"color\":\"#EF553B\",\"symbol\":\"circle\",\"line\":{\"color\":\"DarkSlateGrey\",\"width\":2},\"size\":12},\"mode\":\"markers\",\"name\":\"Group 1\",\"orientation\":\"v\",\"showlegend\":true,\"x\":[22.000786041836115,29.337789950749837,7.235050920829607,16.28917489796779,12.728171627006176,27.346793849501424,20.77473712848458,15.561071261849436,26.011899243922056,18.06336591296024,11.468649046874937,29.75387697615895,17.451739091241734,21.93451248929631,17.445974312155634,14.096839079387939,19.859088858306727,21.512359488698905,18.186294170064308,20.887130711268764,17.991095318958692,22.313911277628872,15.463508178083789,20.644914553787054,13.825870898231738,22.011708205887746,15.646014254090591,18.442237339363135,14.174250796083218,24.504132434770938,12.31878156861388,27.441260968978,25.893897855798254,14.646236892447288,25.272258634655685,21.78183198587201,22.009946817223508,29.41575348528127,13.261204694287768,27.402573957172123,23.0703968517304,21.88212765577815,16.527160701343174,19.251827298361647,23.361473785062177,22.03730918120555,16.820769608105596,22.882954083074704,18.958506222110024,12.543712036471973,22.196958506322684,24.722397434952068,19.658791973376843,28.566713608246832,15.867807306704929,24.747104034628805,20.437756206925954,24.221814882007735,12.276144516111941,25.94014896176151,14.828785791077676,17.722337482413284,20.087395795125282,20.26082539630487,27.715072977033678,13.535715451382757,19.14226834388876],\"xaxis\":\"x\",\"y\":[57.60620822424074,66.40131526097592,50.44054999507223,64.81481473773462,60.632619942003316,57.62078270263993,45.75939091017469,54.57138523983282,39.30014974986467,64.262587307781,58.671194224130446,57.02209120598272,56.90987030952878,54.242120301869335,61.4195316332078,56.806715828549045,66.91538751070186,46.166360446049445,66.10379379107205,40.637201941534926,61.887785967938285,60.88422087044661,56.89113828301528,32.2740724357335,63.90093322687927,53.4759141761298,64.93741777349189,39.693155322185056,58.894593427675275,70.201727117158,75.36377054245798,62.8634368889228,49.547466338530455,66.89818164534789,73.01846229564998,58.64050299321679,63.700558878475185,46.93473148264683,76.58130679618188,58.40426561853733,59.38373597904353,52.80395611448207,48.42644740809146,56.87707748874307,52.952997241437664,69.43260724969495,33.40827762003259,42.44109416562281,64.50934461805915,70.6850939931601,55.46614196148612,57.19644504815491,52.35856076093557,45.62208526198422,53.105508154500626,69.31848374114304,63.39964983801262,61.60928168298223,56.0515048596655,57.322664631060334,60.494949816500906,57.930963238360285,68.80178912080783,45.281649925364135,61.64227755487334,65.67290277852669,52.38507788188377],\"yaxis\":\"y\",\"type\":\"scatter\"},{\"customdata\":[[\"Group 3\"],[\"Group 3\"],[\"Group 3\"],[\"Group 3\"],[\"Group 3\"],[\"Group 3\"],[\"Group 3\"],[\"Group 3\"],[\"Group 3\"],[\"Group 3\"],[\"Group 3\"],[\"Group 3\"],[\"Group 3\"],[\"Group 3\"],[\"Group 3\"],[\"Group 3\"],[\"Group 3\"],[\"Group 3\"],[\"Group 3\"],[\"Group 3\"],[\"Group 3\"],[\"Group 3\"],[\"Group 3\"],[\"Group 3\"],[\"Group 3\"],[\"Group 3\"],[\"Group 3\"],[\"Group 3\"],[\"Group 3\"],[\"Group 3\"],[\"Group 3\"],[\"Group 3\"],[\"Group 3\"],[\"Group 3\"],[\"Group 3\"],[\"Group 3\"],[\"Group 3\"],[\"Group 3\"],[\"Group 3\"],[\"Group 3\"],[\"Group 3\"],[\"Group 3\"],[\"Group 3\"],[\"Group 3\"],[\"Group 3\"],[\"Group 3\"],[\"Group 3\"],[\"Group 3\"],[\"Group 3\"],[\"Group 3\"],[\"Group 3\"],[\"Group 3\"],[\"Group 3\"],[\"Group 3\"],[\"Group 3\"],[\"Group 3\"],[\"Group 3\"],[\"Group 3\"],[\"Group 3\"],[\"Group 3\"],[\"Group 3\"],[\"Group 3\"],[\"Group 3\"],[\"Group 3\"],[\"Group 3\"],[\"Group 3\"]],\"hovertemplate\":\"Group=%{customdata[0]}\\u003cbr\\u003eMetric 1=%{x}\\u003cbr\\u003eMetric 2=%{y}\\u003cextra\\u003e\\u003c\\u002fextra\\u003e\",\"legendgroup\":\"Group 3\",\"marker\":{\"color\":\"#00cc96\",\"symbol\":\"circle\",\"line\":{\"color\":\"DarkSlateGrey\",\"width\":2},\"size\":12},\"mode\":\"markers\",\"name\":\"Group 3\",\"orientation\":\"v\",\"showlegend\":true,\"x\":[24.893689920528697,24.750442087627945,19.48390574103221,22.05299250969186,27.271367534814875,23.805188625734967,20.608375082464143,22.21931616372713,27.47039536578803,18.974208681170996,21.565338508254506,15.729521303491376,27.663896071792287,10.096017658880365,26.151453403638605,12.899910314105124,17.809628491944068,13.736023199750369,22.141659352652088,20.33258611191584,18.202234192297293,15.93426858977773,20.259726978980694,25.697003422716502,17.105751676177924,19.100375820938247,23.53286584095974,20.052500103604103,28.929352469529178,13.647575007571332,24.846983540790056,29.718105928246462,17.931905096201262,16.262725942796212,29.614710132401925,29.337794802132848,24.530223291376927,15.693871574726487,29.55032476549517,18.659983145243096,24.012281978981974,23.3821664747325,21.980033563308226,14.534692456347472,20.833367476862644,23.17515718446053,31.91572387431971,25.585081440479264,19.50773737787284,16.682608568189462,14.262656737944488,17.81089977627783,29.64766026908493,24.604294118904093,16.744872033499266,18.23003044373258,16.78190798583555,8.882984238877867,14.478083302857748,16.302185018043435,21.335254346745913,14.159532511294014,22.616383302658768,23.858952756068337,30.81617974640345,26.68263974718196],\"xaxis\":\"x\",\"y\":[70.99659595887113,59.75673875601064,62.79924599043238,59.01849610357042,63.17218215191302,67.86327962108976,55.33580903264057,50.555537440817496,59.82979586138559,63.791517355550816,82.59308950690851,59.577428483393575,54.026839310346375,64.16050046261425,74.94484544491368,56.02728185671202,43.23996193670023,71.5233156478312,66.94749143656006,52.74402621536416,54.93183645701313,54.03685961549492,60.97400166268783,79.55912308250694,58.83896060965633,72.111452896827,71.36891362602695,60.977249677148556,65.82953679753294,58.818359548714305,53.1982179600315,55.39280212611447,46.65741528597246,46.53282494202445,66.93773152690133,58.662984403315605,70.77743805976263,48.73174191243257,52.69322247135175,56.15120190818725,60.94351589317074,66.06319524359381,53.15989102262783,76.59550796189872,53.12162388971318,47.8592259690588,55.59077367707408,61.56703855272364,53.47706400064981,54.78810687698889,55.203441859920524,66.20358298343513,60.037708890862696,62.80441705316296,57.50541419839051,43.01894180567746,37.444357705978106,49.77493156364396,50.1448926231585,76.4813493220756,57.77324899484846,43.83525811348967,57.08162637252137,68.57923924292336,74.66578715574178,68.52551939461232],\"yaxis\":\"y\",\"type\":\"scatter\"}],                        {\"template\":{\"data\":{\"histogram2dcontour\":[{\"type\":\"histogram2dcontour\",\"colorbar\":{\"outlinewidth\":0,\"ticks\":\"\"},\"colorscale\":[[0.0,\"#0d0887\"],[0.1111111111111111,\"#46039f\"],[0.2222222222222222,\"#7201a8\"],[0.3333333333333333,\"#9c179e\"],[0.4444444444444444,\"#bd3786\"],[0.5555555555555556,\"#d8576b\"],[0.6666666666666666,\"#ed7953\"],[0.7777777777777778,\"#fb9f3a\"],[0.8888888888888888,\"#fdca26\"],[1.0,\"#f0f921\"]]}],\"choropleth\":[{\"type\":\"choropleth\",\"colorbar\":{\"outlinewidth\":0,\"ticks\":\"\"}}],\"histogram2d\":[{\"type\":\"histogram2d\",\"colorbar\":{\"outlinewidth\":0,\"ticks\":\"\"},\"colorscale\":[[0.0,\"#0d0887\"],[0.1111111111111111,\"#46039f\"],[0.2222222222222222,\"#7201a8\"],[0.3333333333333333,\"#9c179e\"],[0.4444444444444444,\"#bd3786\"],[0.5555555555555556,\"#d8576b\"],[0.6666666666666666,\"#ed7953\"],[0.7777777777777778,\"#fb9f3a\"],[0.8888888888888888,\"#fdca26\"],[1.0,\"#f0f921\"]]}],\"heatmap\":[{\"type\":\"heatmap\",\"colorbar\":{\"outlinewidth\":0,\"ticks\":\"\"},\"colorscale\":[[0.0,\"#0d0887\"],[0.1111111111111111,\"#46039f\"],[0.2222222222222222,\"#7201a8\"],[0.3333333333333333,\"#9c179e\"],[0.4444444444444444,\"#bd3786\"],[0.5555555555555556,\"#d8576b\"],[0.6666666666666666,\"#ed7953\"],[0.7777777777777778,\"#fb9f3a\"],[0.8888888888888888,\"#fdca26\"],[1.0,\"#f0f921\"]]}],\"heatmapgl\":[{\"type\":\"heatmapgl\",\"colorbar\":{\"outlinewidth\":0,\"ticks\":\"\"},\"colorscale\":[[0.0,\"#0d0887\"],[0.1111111111111111,\"#46039f\"],[0.2222222222222222,\"#7201a8\"],[0.3333333333333333,\"#9c179e\"],[0.4444444444444444,\"#bd3786\"],[0.5555555555555556,\"#d8576b\"],[0.6666666666666666,\"#ed7953\"],[0.7777777777777778,\"#fb9f3a\"],[0.8888888888888888,\"#fdca26\"],[1.0,\"#f0f921\"]]}],\"contourcarpet\":[{\"type\":\"contourcarpet\",\"colorbar\":{\"outlinewidth\":0,\"ticks\":\"\"}}],\"contour\":[{\"type\":\"contour\",\"colorbar\":{\"outlinewidth\":0,\"ticks\":\"\"},\"colorscale\":[[0.0,\"#0d0887\"],[0.1111111111111111,\"#46039f\"],[0.2222222222222222,\"#7201a8\"],[0.3333333333333333,\"#9c179e\"],[0.4444444444444444,\"#bd3786\"],[0.5555555555555556,\"#d8576b\"],[0.6666666666666666,\"#ed7953\"],[0.7777777777777778,\"#fb9f3a\"],[0.8888888888888888,\"#fdca26\"],[1.0,\"#f0f921\"]]}],\"surface\":[{\"type\":\"surface\",\"colorbar\":{\"outlinewidth\":0,\"ticks\":\"\"},\"colorscale\":[[0.0,\"#0d0887\"],[0.1111111111111111,\"#46039f\"],[0.2222222222222222,\"#7201a8\"],[0.3333333333333333,\"#9c179e\"],[0.4444444444444444,\"#bd3786\"],[0.5555555555555556,\"#d8576b\"],[0.6666666666666666,\"#ed7953\"],[0.7777777777777778,\"#fb9f3a\"],[0.8888888888888888,\"#fdca26\"],[1.0,\"#f0f921\"]]}],\"mesh3d\":[{\"type\":\"mesh3d\",\"colorbar\":{\"outlinewidth\":0,\"ticks\":\"\"}}],\"scatter\":[{\"fillpattern\":{\"fillmode\":\"overlay\",\"size\":10,\"solidity\":0.2},\"type\":\"scatter\"}],\"parcoords\":[{\"type\":\"parcoords\",\"line\":{\"colorbar\":{\"outlinewidth\":0,\"ticks\":\"\"}}}],\"scatterpolargl\":[{\"type\":\"scatterpolargl\",\"marker\":{\"colorbar\":{\"outlinewidth\":0,\"ticks\":\"\"}}}],\"bar\":[{\"error_x\":{\"color\":\"#2a3f5f\"},\"error_y\":{\"color\":\"#2a3f5f\"},\"marker\":{\"line\":{\"color\":\"#E5ECF6\",\"width\":0.5},\"pattern\":{\"fillmode\":\"overlay\",\"size\":10,\"solidity\":0.2}},\"type\":\"bar\"}],\"scattergeo\":[{\"type\":\"scattergeo\",\"marker\":{\"colorbar\":{\"outlinewidth\":0,\"ticks\":\"\"}}}],\"scatterpolar\":[{\"type\":\"scatterpolar\",\"marker\":{\"colorbar\":{\"outlinewidth\":0,\"ticks\":\"\"}}}],\"histogram\":[{\"marker\":{\"pattern\":{\"fillmode\":\"overlay\",\"size\":10,\"solidity\":0.2}},\"type\":\"histogram\"}],\"scattergl\":[{\"type\":\"scattergl\",\"marker\":{\"colorbar\":{\"outlinewidth\":0,\"ticks\":\"\"}}}],\"scatter3d\":[{\"type\":\"scatter3d\",\"line\":{\"colorbar\":{\"outlinewidth\":0,\"ticks\":\"\"}},\"marker\":{\"colorbar\":{\"outlinewidth\":0,\"ticks\":\"\"}}}],\"scattermapbox\":[{\"type\":\"scattermapbox\",\"marker\":{\"colorbar\":{\"outlinewidth\":0,\"ticks\":\"\"}}}],\"scatterternary\":[{\"type\":\"scatterternary\",\"marker\":{\"colorbar\":{\"outlinewidth\":0,\"ticks\":\"\"}}}],\"scattercarpet\":[{\"type\":\"scattercarpet\",\"marker\":{\"colorbar\":{\"outlinewidth\":0,\"ticks\":\"\"}}}],\"carpet\":[{\"aaxis\":{\"endlinecolor\":\"#2a3f5f\",\"gridcolor\":\"white\",\"linecolor\":\"white\",\"minorgridcolor\":\"white\",\"startlinecolor\":\"#2a3f5f\"},\"baxis\":{\"endlinecolor\":\"#2a3f5f\",\"gridcolor\":\"white\",\"linecolor\":\"white\",\"minorgridcolor\":\"white\",\"startlinecolor\":\"#2a3f5f\"},\"type\":\"carpet\"}],\"table\":[{\"cells\":{\"fill\":{\"color\":\"#EBF0F8\"},\"line\":{\"color\":\"white\"}},\"header\":{\"fill\":{\"color\":\"#C8D4E3\"},\"line\":{\"color\":\"white\"}},\"type\":\"table\"}],\"barpolar\":[{\"marker\":{\"line\":{\"color\":\"#E5ECF6\",\"width\":0.5},\"pattern\":{\"fillmode\":\"overlay\",\"size\":10,\"solidity\":0.2}},\"type\":\"barpolar\"}],\"pie\":[{\"automargin\":true,\"type\":\"pie\"}]},\"layout\":{\"autotypenumbers\":\"strict\",\"colorway\":[\"#636efa\",\"#EF553B\",\"#00cc96\",\"#ab63fa\",\"#FFA15A\",\"#19d3f3\",\"#FF6692\",\"#B6E880\",\"#FF97FF\",\"#FECB52\"],\"font\":{\"color\":\"#2a3f5f\"},\"hovermode\":\"closest\",\"hoverlabel\":{\"align\":\"left\"},\"paper_bgcolor\":\"white\",\"plot_bgcolor\":\"#E5ECF6\",\"polar\":{\"bgcolor\":\"#E5ECF6\",\"angularaxis\":{\"gridcolor\":\"white\",\"linecolor\":\"white\",\"ticks\":\"\"},\"radialaxis\":{\"gridcolor\":\"white\",\"linecolor\":\"white\",\"ticks\":\"\"}},\"ternary\":{\"bgcolor\":\"#E5ECF6\",\"aaxis\":{\"gridcolor\":\"white\",\"linecolor\":\"white\",\"ticks\":\"\"},\"baxis\":{\"gridcolor\":\"white\",\"linecolor\":\"white\",\"ticks\":\"\"},\"caxis\":{\"gridcolor\":\"white\",\"linecolor\":\"white\",\"ticks\":\"\"}},\"coloraxis\":{\"colorbar\":{\"outlinewidth\":0,\"ticks\":\"\"}},\"colorscale\":{\"sequential\":[[0.0,\"#0d0887\"],[0.1111111111111111,\"#46039f\"],[0.2222222222222222,\"#7201a8\"],[0.3333333333333333,\"#9c179e\"],[0.4444444444444444,\"#bd3786\"],[0.5555555555555556,\"#d8576b\"],[0.6666666666666666,\"#ed7953\"],[0.7777777777777778,\"#fb9f3a\"],[0.8888888888888888,\"#fdca26\"],[1.0,\"#f0f921\"]],\"sequentialminus\":[[0.0,\"#0d0887\"],[0.1111111111111111,\"#46039f\"],[0.2222222222222222,\"#7201a8\"],[0.3333333333333333,\"#9c179e\"],[0.4444444444444444,\"#bd3786\"],[0.5555555555555556,\"#d8576b\"],[0.6666666666666666,\"#ed7953\"],[0.7777777777777778,\"#fb9f3a\"],[0.8888888888888888,\"#fdca26\"],[1.0,\"#f0f921\"]],\"diverging\":[[0,\"#8e0152\"],[0.1,\"#c51b7d\"],[0.2,\"#de77ae\"],[0.3,\"#f1b6da\"],[0.4,\"#fde0ef\"],[0.5,\"#f7f7f7\"],[0.6,\"#e6f5d0\"],[0.7,\"#b8e186\"],[0.8,\"#7fbc41\"],[0.9,\"#4d9221\"],[1,\"#276419\"]]},\"xaxis\":{\"gridcolor\":\"white\",\"linecolor\":\"white\",\"ticks\":\"\",\"title\":{\"standoff\":15},\"zerolinecolor\":\"white\",\"automargin\":true,\"zerolinewidth\":2},\"yaxis\":{\"gridcolor\":\"white\",\"linecolor\":\"white\",\"ticks\":\"\",\"title\":{\"standoff\":15},\"zerolinecolor\":\"white\",\"automargin\":true,\"zerolinewidth\":2},\"scene\":{\"xaxis\":{\"backgroundcolor\":\"#E5ECF6\",\"gridcolor\":\"white\",\"linecolor\":\"white\",\"showbackground\":true,\"ticks\":\"\",\"zerolinecolor\":\"white\",\"gridwidth\":2},\"yaxis\":{\"backgroundcolor\":\"#E5ECF6\",\"gridcolor\":\"white\",\"linecolor\":\"white\",\"showbackground\":true,\"ticks\":\"\",\"zerolinecolor\":\"white\",\"gridwidth\":2},\"zaxis\":{\"backgroundcolor\":\"#E5ECF6\",\"gridcolor\":\"white\",\"linecolor\":\"white\",\"showbackground\":true,\"ticks\":\"\",\"zerolinecolor\":\"white\",\"gridwidth\":2}},\"shapedefaults\":{\"line\":{\"color\":\"#2a3f5f\"}},\"annotationdefaults\":{\"arrowcolor\":\"#2a3f5f\",\"arrowhead\":0,\"arrowwidth\":1},\"geo\":{\"bgcolor\":\"white\",\"landcolor\":\"#E5ECF6\",\"subunitcolor\":\"white\",\"showland\":true,\"showlakes\":true,\"lakecolor\":\"white\"},\"title\":{\"x\":0.05},\"mapbox\":{\"style\":\"light\"}}},\"xaxis\":{\"anchor\":\"y\",\"domain\":[0.0,1.0],\"title\":{\"text\":\"Metric 1\"}},\"yaxis\":{\"anchor\":\"x\",\"domain\":[0.0,1.0],\"title\":{\"text\":\"Metric 2\"}},\"legend\":{\"title\":{\"text\":\"Group\"},\"tracegroupgap\":0},\"title\":{\"text\":\"Interactive Scatter Plot: Feature Analysis\",\"font\":{\"size\":20}},\"hovermode\":\"closest\"},                        {\"responsive\": true}                    ).then(function(){\n",
              "                            \n",
              "var gd = document.getElementById('0d71b075-1546-42a6-ad41-d34c46e62931');\n",
              "var x = new MutationObserver(function (mutations, observer) {{\n",
              "        var display = window.getComputedStyle(gd).display;\n",
              "        if (!display || display === 'none') {{\n",
              "            console.log([gd, 'removed!']);\n",
              "            Plotly.purge(gd);\n",
              "            observer.disconnect();\n",
              "        }}\n",
              "}});\n",
              "\n",
              "// Listen for the removal of the full notebook cells\n",
              "var notebookContainer = gd.closest('#notebook-container');\n",
              "if (notebookContainer) {{\n",
              "    x.observe(notebookContainer, {childList: true});\n",
              "}}\n",
              "\n",
              "// Listen for the clearing of the current output cell\n",
              "var outputEl = gd.closest('.output');\n",
              "if (outputEl) {{\n",
              "    x.observe(outputEl, {childList: true});\n",
              "}}\n",
              "\n",
              "                        })                };                            </script>        </div>\n",
              "</body>\n",
              "</html>"
            ]
          },
          "metadata": {}
        }
      ]
    },
    {
      "cell_type": "markdown",
      "source": [
        "# Example 3: Advanced Financial Charting with Plotly: Candlestick and Moving Average Visualization\n",
        "\n",
        "This example demonstrates how Plotly can be utilized to create detailed financial charts that provide deeper insights into market trends and volatility. We'll construct a candlestick chart combined with a moving average line to analyze stock price movements over time.\n",
        "\n"
      ],
      "metadata": {
        "id": "OVO3HGhR9D9i"
      }
    },
    {
      "cell_type": "code",
      "source": [
        "import pandas as pd\n",
        "import numpy as np\n",
        "import plotly.graph_objects as go\n",
        "\n",
        "# Generate sample data\n",
        "dates = pd.date_range(start=\"2024-01-01\", periods=30, freq='B')  # 30 business days\n",
        "prices = np.random.lognormal(mean=0, sigma=0.03, size=(30,))\n",
        "df = pd.DataFrame({\n",
        "    'Date': dates,\n",
        "    'Open': prices * np.random.uniform(0.99, 1.01, size=(30,)),\n",
        "    'High': prices * np.random.uniform(1.01, 1.03, size=(30,)),\n",
        "    'Low': prices * np.random.uniform(0.97, 0.99, size=(30,)),\n",
        "    'Close': prices\n",
        "})\n",
        "\n",
        "# Calculate a simple moving average\n",
        "df['SMA'] = df['Close'].rolling(window=5, min_periods=1).mean()\n",
        "\n",
        "# Create a candlestick chart\n",
        "fig = go.Figure(data=[go.Candlestick(\n",
        "    x=df['Date'],\n",
        "    open=df['Open'],\n",
        "    high=df['High'],\n",
        "    low=df['Low'],\n",
        "    close=df['Close'],\n",
        "    name='Candlestick'\n",
        ")])\n",
        "# Add the SMA line\n",
        "fig.add_trace(go.Scatter(x=df['Date'], y=df['SMA'], mode='lines', name='SMA'))\n",
        "\n",
        "# Update layout\n",
        "fig.update_layout(\n",
        "    title='Stock Price Analysis with Candlestick and SMA',\n",
        "    xaxis_title='Date',\n",
        "    yaxis_title='Price',\n",
        "    legend_title='Legend',\n",
        "    xaxis_rangeslider_visible=False\n",
        ")\n",
        "fig.show()\n"
      ],
      "metadata": {
        "colab": {
          "base_uri": "https://localhost:8080/",
          "height": 542
        },
        "id": "OJjKcnk09IeI",
        "outputId": "d89cc422-46d0-4140-9881-064d3f712015"
      },
      "execution_count": 4,
      "outputs": [
        {
          "output_type": "display_data",
          "data": {
            "text/html": [
              "<html>\n",
              "<head><meta charset=\"utf-8\" /></head>\n",
              "<body>\n",
              "    <div>            <script src=\"https://cdnjs.cloudflare.com/ajax/libs/mathjax/2.7.5/MathJax.js?config=TeX-AMS-MML_SVG\"></script><script type=\"text/javascript\">if (window.MathJax && window.MathJax.Hub && window.MathJax.Hub.Config) {window.MathJax.Hub.Config({SVG: {font: \"STIX-Web\"}});}</script>                <script type=\"text/javascript\">window.PlotlyConfig = {MathJaxConfig: 'local'};</script>\n",
              "        <script charset=\"utf-8\" src=\"https://cdn.plot.ly/plotly-2.35.2.min.js\"></script>                <div id=\"4affcbda-9ac7-4836-9e1b-e4b670e1f07f\" class=\"plotly-graph-div\" style=\"height:525px; width:100%;\"></div>            <script type=\"text/javascript\">                                    window.PLOTLYENV=window.PLOTLYENV || {};                                    if (document.getElementById(\"4affcbda-9ac7-4836-9e1b-e4b670e1f07f\")) {                    Plotly.newPlot(                        \"4affcbda-9ac7-4836-9e1b-e4b670e1f07f\",                        [{\"close\":[1.0842480676986113,0.9977847173799785,0.9804372934821647,0.9846913679116388,0.9699204159542363,0.9976670828127974,1.011548143766063,0.998973259043611,1.0334372738590962,0.992998153912068,0.9896306170438991,0.9827131086253484,0.9522010916357316,0.954055882954264,0.9652436350839726,1.0398150306073615,1.027221729858118,1.042111477727123,0.9608217706088945,0.9426513955339948,0.9803930761692126,1.005288503625478,1.015073179827793,1.031938595370379,1.0085648604472606,1.0536707958409028,0.993344078995653,0.9729793923262298,0.9508142592842501,0.9736833403833893],\"high\":[1.1118629019659902,1.0168705343370055,0.9932490377672427,0.9984690935550381,0.9880188245429359,1.018183788896786,1.0287331387792988,1.0245765360964973,1.0592943219057536,1.0213425277113284,1.000099969793509,1.0101443911746786,0.9691991911304045,0.9803567707166567,0.9882315836027722,1.0707463824745753,1.0530929758267655,1.0601305152822942,0.9800586364131834,0.9591739847374912,0.9973521476798531,1.0205870745371717,1.0352928345225685,1.0563282565505379,1.0242448220922409,1.0752579776565248,1.0056095001897114,0.9858197096508841,0.961212484866802,1.0023238744634653],\"low\":[1.0518043372409656,0.9714148631177418,0.9630417230915242,0.9567531057063152,0.9579301919378546,0.9820958972005694,1.0007526990883238,0.9791463480129725,1.008643122910934,0.9741212703818924,0.9783650325636942,0.963466897183471,0.9287237554353006,0.9421759559958065,0.9434661701268544,1.0086493482515717,1.0014936267076646,1.0174808292455253,0.9484997592423396,0.9230160266738137,0.9596986898585971,0.9818874434057991,1.0025000392882826,1.020484629604933,0.9983156292618993,1.0299998973773736,0.982738093516794,0.9591996606055435,0.9351389290341984,0.9492417362988179],\"name\":\"Candlestick\",\"open\":[1.0740550586597235,1.002519290527905,0.9727856560859272,0.9867849819306047,0.9738625119282894,1.0003565203648839,1.0208370336203207,0.9910473683459468,1.0410261584182214,0.9836478893592919,0.9903217128176335,0.9808310875876359,0.9526616496010697,0.951481837836221,0.9592700687672026,1.029814565825206,1.0275946075205016,1.0492557117851864,0.9583854332111696,0.9374265393599719,0.972168205779797,0.9969508603941214,1.0094171199243345,1.0236833768075688,1.003825406370667,1.0445280830103583,0.9847140023336219,0.9799123799412235,0.9443890418034243,0.9748455756686751],\"x\":[\"2024-01-01T00:00:00\",\"2024-01-02T00:00:00\",\"2024-01-03T00:00:00\",\"2024-01-04T00:00:00\",\"2024-01-05T00:00:00\",\"2024-01-08T00:00:00\",\"2024-01-09T00:00:00\",\"2024-01-10T00:00:00\",\"2024-01-11T00:00:00\",\"2024-01-12T00:00:00\",\"2024-01-15T00:00:00\",\"2024-01-16T00:00:00\",\"2024-01-17T00:00:00\",\"2024-01-18T00:00:00\",\"2024-01-19T00:00:00\",\"2024-01-22T00:00:00\",\"2024-01-23T00:00:00\",\"2024-01-24T00:00:00\",\"2024-01-25T00:00:00\",\"2024-01-26T00:00:00\",\"2024-01-29T00:00:00\",\"2024-01-30T00:00:00\",\"2024-01-31T00:00:00\",\"2024-02-01T00:00:00\",\"2024-02-02T00:00:00\",\"2024-02-05T00:00:00\",\"2024-02-06T00:00:00\",\"2024-02-07T00:00:00\",\"2024-02-08T00:00:00\",\"2024-02-09T00:00:00\"],\"type\":\"candlestick\"},{\"mode\":\"lines\",\"name\":\"SMA\",\"x\":[\"2024-01-01T00:00:00\",\"2024-01-02T00:00:00\",\"2024-01-03T00:00:00\",\"2024-01-04T00:00:00\",\"2024-01-05T00:00:00\",\"2024-01-08T00:00:00\",\"2024-01-09T00:00:00\",\"2024-01-10T00:00:00\",\"2024-01-11T00:00:00\",\"2024-01-12T00:00:00\",\"2024-01-15T00:00:00\",\"2024-01-16T00:00:00\",\"2024-01-17T00:00:00\",\"2024-01-18T00:00:00\",\"2024-01-19T00:00:00\",\"2024-01-22T00:00:00\",\"2024-01-23T00:00:00\",\"2024-01-24T00:00:00\",\"2024-01-25T00:00:00\",\"2024-01-26T00:00:00\",\"2024-01-29T00:00:00\",\"2024-01-30T00:00:00\",\"2024-01-31T00:00:00\",\"2024-02-01T00:00:00\",\"2024-02-02T00:00:00\",\"2024-02-05T00:00:00\",\"2024-02-06T00:00:00\",\"2024-02-07T00:00:00\",\"2024-02-08T00:00:00\",\"2024-02-09T00:00:00\"],\"y\":[1.0842480676986113,1.0410163925392948,1.0208233595202516,1.0117903616180983,1.003416372485326,0.9861001755081631,0.98885286078538,0.9925600538976692,1.0023092350871607,1.006924782678727,1.0053174895249473,0.9995504824968047,0.9901960490152286,0.9743197708342622,0.9687688670686432,0.9788057497813355,0.9877074740278896,1.0056895512461677,1.007042728777094,1.0025242808670982,0.9906398899794686,0.9862532447329407,0.9808455851530746,0.9950689501053714,1.0082516430880246,1.0229071870223627,1.0205183020963977,1.0120995445960852,0.9958746773788594,0.9888983733660851],\"type\":\"scatter\"}],                        {\"template\":{\"data\":{\"histogram2dcontour\":[{\"type\":\"histogram2dcontour\",\"colorbar\":{\"outlinewidth\":0,\"ticks\":\"\"},\"colorscale\":[[0.0,\"#0d0887\"],[0.1111111111111111,\"#46039f\"],[0.2222222222222222,\"#7201a8\"],[0.3333333333333333,\"#9c179e\"],[0.4444444444444444,\"#bd3786\"],[0.5555555555555556,\"#d8576b\"],[0.6666666666666666,\"#ed7953\"],[0.7777777777777778,\"#fb9f3a\"],[0.8888888888888888,\"#fdca26\"],[1.0,\"#f0f921\"]]}],\"choropleth\":[{\"type\":\"choropleth\",\"colorbar\":{\"outlinewidth\":0,\"ticks\":\"\"}}],\"histogram2d\":[{\"type\":\"histogram2d\",\"colorbar\":{\"outlinewidth\":0,\"ticks\":\"\"},\"colorscale\":[[0.0,\"#0d0887\"],[0.1111111111111111,\"#46039f\"],[0.2222222222222222,\"#7201a8\"],[0.3333333333333333,\"#9c179e\"],[0.4444444444444444,\"#bd3786\"],[0.5555555555555556,\"#d8576b\"],[0.6666666666666666,\"#ed7953\"],[0.7777777777777778,\"#fb9f3a\"],[0.8888888888888888,\"#fdca26\"],[1.0,\"#f0f921\"]]}],\"heatmap\":[{\"type\":\"heatmap\",\"colorbar\":{\"outlinewidth\":0,\"ticks\":\"\"},\"colorscale\":[[0.0,\"#0d0887\"],[0.1111111111111111,\"#46039f\"],[0.2222222222222222,\"#7201a8\"],[0.3333333333333333,\"#9c179e\"],[0.4444444444444444,\"#bd3786\"],[0.5555555555555556,\"#d8576b\"],[0.6666666666666666,\"#ed7953\"],[0.7777777777777778,\"#fb9f3a\"],[0.8888888888888888,\"#fdca26\"],[1.0,\"#f0f921\"]]}],\"heatmapgl\":[{\"type\":\"heatmapgl\",\"colorbar\":{\"outlinewidth\":0,\"ticks\":\"\"},\"colorscale\":[[0.0,\"#0d0887\"],[0.1111111111111111,\"#46039f\"],[0.2222222222222222,\"#7201a8\"],[0.3333333333333333,\"#9c179e\"],[0.4444444444444444,\"#bd3786\"],[0.5555555555555556,\"#d8576b\"],[0.6666666666666666,\"#ed7953\"],[0.7777777777777778,\"#fb9f3a\"],[0.8888888888888888,\"#fdca26\"],[1.0,\"#f0f921\"]]}],\"contourcarpet\":[{\"type\":\"contourcarpet\",\"colorbar\":{\"outlinewidth\":0,\"ticks\":\"\"}}],\"contour\":[{\"type\":\"contour\",\"colorbar\":{\"outlinewidth\":0,\"ticks\":\"\"},\"colorscale\":[[0.0,\"#0d0887\"],[0.1111111111111111,\"#46039f\"],[0.2222222222222222,\"#7201a8\"],[0.3333333333333333,\"#9c179e\"],[0.4444444444444444,\"#bd3786\"],[0.5555555555555556,\"#d8576b\"],[0.6666666666666666,\"#ed7953\"],[0.7777777777777778,\"#fb9f3a\"],[0.8888888888888888,\"#fdca26\"],[1.0,\"#f0f921\"]]}],\"surface\":[{\"type\":\"surface\",\"colorbar\":{\"outlinewidth\":0,\"ticks\":\"\"},\"colorscale\":[[0.0,\"#0d0887\"],[0.1111111111111111,\"#46039f\"],[0.2222222222222222,\"#7201a8\"],[0.3333333333333333,\"#9c179e\"],[0.4444444444444444,\"#bd3786\"],[0.5555555555555556,\"#d8576b\"],[0.6666666666666666,\"#ed7953\"],[0.7777777777777778,\"#fb9f3a\"],[0.8888888888888888,\"#fdca26\"],[1.0,\"#f0f921\"]]}],\"mesh3d\":[{\"type\":\"mesh3d\",\"colorbar\":{\"outlinewidth\":0,\"ticks\":\"\"}}],\"scatter\":[{\"fillpattern\":{\"fillmode\":\"overlay\",\"size\":10,\"solidity\":0.2},\"type\":\"scatter\"}],\"parcoords\":[{\"type\":\"parcoords\",\"line\":{\"colorbar\":{\"outlinewidth\":0,\"ticks\":\"\"}}}],\"scatterpolargl\":[{\"type\":\"scatterpolargl\",\"marker\":{\"colorbar\":{\"outlinewidth\":0,\"ticks\":\"\"}}}],\"bar\":[{\"error_x\":{\"color\":\"#2a3f5f\"},\"error_y\":{\"color\":\"#2a3f5f\"},\"marker\":{\"line\":{\"color\":\"#E5ECF6\",\"width\":0.5},\"pattern\":{\"fillmode\":\"overlay\",\"size\":10,\"solidity\":0.2}},\"type\":\"bar\"}],\"scattergeo\":[{\"type\":\"scattergeo\",\"marker\":{\"colorbar\":{\"outlinewidth\":0,\"ticks\":\"\"}}}],\"scatterpolar\":[{\"type\":\"scatterpolar\",\"marker\":{\"colorbar\":{\"outlinewidth\":0,\"ticks\":\"\"}}}],\"histogram\":[{\"marker\":{\"pattern\":{\"fillmode\":\"overlay\",\"size\":10,\"solidity\":0.2}},\"type\":\"histogram\"}],\"scattergl\":[{\"type\":\"scattergl\",\"marker\":{\"colorbar\":{\"outlinewidth\":0,\"ticks\":\"\"}}}],\"scatter3d\":[{\"type\":\"scatter3d\",\"line\":{\"colorbar\":{\"outlinewidth\":0,\"ticks\":\"\"}},\"marker\":{\"colorbar\":{\"outlinewidth\":0,\"ticks\":\"\"}}}],\"scattermapbox\":[{\"type\":\"scattermapbox\",\"marker\":{\"colorbar\":{\"outlinewidth\":0,\"ticks\":\"\"}}}],\"scatterternary\":[{\"type\":\"scatterternary\",\"marker\":{\"colorbar\":{\"outlinewidth\":0,\"ticks\":\"\"}}}],\"scattercarpet\":[{\"type\":\"scattercarpet\",\"marker\":{\"colorbar\":{\"outlinewidth\":0,\"ticks\":\"\"}}}],\"carpet\":[{\"aaxis\":{\"endlinecolor\":\"#2a3f5f\",\"gridcolor\":\"white\",\"linecolor\":\"white\",\"minorgridcolor\":\"white\",\"startlinecolor\":\"#2a3f5f\"},\"baxis\":{\"endlinecolor\":\"#2a3f5f\",\"gridcolor\":\"white\",\"linecolor\":\"white\",\"minorgridcolor\":\"white\",\"startlinecolor\":\"#2a3f5f\"},\"type\":\"carpet\"}],\"table\":[{\"cells\":{\"fill\":{\"color\":\"#EBF0F8\"},\"line\":{\"color\":\"white\"}},\"header\":{\"fill\":{\"color\":\"#C8D4E3\"},\"line\":{\"color\":\"white\"}},\"type\":\"table\"}],\"barpolar\":[{\"marker\":{\"line\":{\"color\":\"#E5ECF6\",\"width\":0.5},\"pattern\":{\"fillmode\":\"overlay\",\"size\":10,\"solidity\":0.2}},\"type\":\"barpolar\"}],\"pie\":[{\"automargin\":true,\"type\":\"pie\"}]},\"layout\":{\"autotypenumbers\":\"strict\",\"colorway\":[\"#636efa\",\"#EF553B\",\"#00cc96\",\"#ab63fa\",\"#FFA15A\",\"#19d3f3\",\"#FF6692\",\"#B6E880\",\"#FF97FF\",\"#FECB52\"],\"font\":{\"color\":\"#2a3f5f\"},\"hovermode\":\"closest\",\"hoverlabel\":{\"align\":\"left\"},\"paper_bgcolor\":\"white\",\"plot_bgcolor\":\"#E5ECF6\",\"polar\":{\"bgcolor\":\"#E5ECF6\",\"angularaxis\":{\"gridcolor\":\"white\",\"linecolor\":\"white\",\"ticks\":\"\"},\"radialaxis\":{\"gridcolor\":\"white\",\"linecolor\":\"white\",\"ticks\":\"\"}},\"ternary\":{\"bgcolor\":\"#E5ECF6\",\"aaxis\":{\"gridcolor\":\"white\",\"linecolor\":\"white\",\"ticks\":\"\"},\"baxis\":{\"gridcolor\":\"white\",\"linecolor\":\"white\",\"ticks\":\"\"},\"caxis\":{\"gridcolor\":\"white\",\"linecolor\":\"white\",\"ticks\":\"\"}},\"coloraxis\":{\"colorbar\":{\"outlinewidth\":0,\"ticks\":\"\"}},\"colorscale\":{\"sequential\":[[0.0,\"#0d0887\"],[0.1111111111111111,\"#46039f\"],[0.2222222222222222,\"#7201a8\"],[0.3333333333333333,\"#9c179e\"],[0.4444444444444444,\"#bd3786\"],[0.5555555555555556,\"#d8576b\"],[0.6666666666666666,\"#ed7953\"],[0.7777777777777778,\"#fb9f3a\"],[0.8888888888888888,\"#fdca26\"],[1.0,\"#f0f921\"]],\"sequentialminus\":[[0.0,\"#0d0887\"],[0.1111111111111111,\"#46039f\"],[0.2222222222222222,\"#7201a8\"],[0.3333333333333333,\"#9c179e\"],[0.4444444444444444,\"#bd3786\"],[0.5555555555555556,\"#d8576b\"],[0.6666666666666666,\"#ed7953\"],[0.7777777777777778,\"#fb9f3a\"],[0.8888888888888888,\"#fdca26\"],[1.0,\"#f0f921\"]],\"diverging\":[[0,\"#8e0152\"],[0.1,\"#c51b7d\"],[0.2,\"#de77ae\"],[0.3,\"#f1b6da\"],[0.4,\"#fde0ef\"],[0.5,\"#f7f7f7\"],[0.6,\"#e6f5d0\"],[0.7,\"#b8e186\"],[0.8,\"#7fbc41\"],[0.9,\"#4d9221\"],[1,\"#276419\"]]},\"xaxis\":{\"gridcolor\":\"white\",\"linecolor\":\"white\",\"ticks\":\"\",\"title\":{\"standoff\":15},\"zerolinecolor\":\"white\",\"automargin\":true,\"zerolinewidth\":2},\"yaxis\":{\"gridcolor\":\"white\",\"linecolor\":\"white\",\"ticks\":\"\",\"title\":{\"standoff\":15},\"zerolinecolor\":\"white\",\"automargin\":true,\"zerolinewidth\":2},\"scene\":{\"xaxis\":{\"backgroundcolor\":\"#E5ECF6\",\"gridcolor\":\"white\",\"linecolor\":\"white\",\"showbackground\":true,\"ticks\":\"\",\"zerolinecolor\":\"white\",\"gridwidth\":2},\"yaxis\":{\"backgroundcolor\":\"#E5ECF6\",\"gridcolor\":\"white\",\"linecolor\":\"white\",\"showbackground\":true,\"ticks\":\"\",\"zerolinecolor\":\"white\",\"gridwidth\":2},\"zaxis\":{\"backgroundcolor\":\"#E5ECF6\",\"gridcolor\":\"white\",\"linecolor\":\"white\",\"showbackground\":true,\"ticks\":\"\",\"zerolinecolor\":\"white\",\"gridwidth\":2}},\"shapedefaults\":{\"line\":{\"color\":\"#2a3f5f\"}},\"annotationdefaults\":{\"arrowcolor\":\"#2a3f5f\",\"arrowhead\":0,\"arrowwidth\":1},\"geo\":{\"bgcolor\":\"white\",\"landcolor\":\"#E5ECF6\",\"subunitcolor\":\"white\",\"showland\":true,\"showlakes\":true,\"lakecolor\":\"white\"},\"title\":{\"x\":0.05},\"mapbox\":{\"style\":\"light\"}}},\"xaxis\":{\"rangeslider\":{\"visible\":false},\"title\":{\"text\":\"Date\"}},\"title\":{\"text\":\"Stock Price Analysis with Candlestick and SMA\"},\"yaxis\":{\"title\":{\"text\":\"Price\"}},\"legend\":{\"title\":{\"text\":\"Legend\"}}},                        {\"responsive\": true}                    ).then(function(){\n",
              "                            \n",
              "var gd = document.getElementById('4affcbda-9ac7-4836-9e1b-e4b670e1f07f');\n",
              "var x = new MutationObserver(function (mutations, observer) {{\n",
              "        var display = window.getComputedStyle(gd).display;\n",
              "        if (!display || display === 'none') {{\n",
              "            console.log([gd, 'removed!']);\n",
              "            Plotly.purge(gd);\n",
              "            observer.disconnect();\n",
              "        }}\n",
              "}});\n",
              "\n",
              "// Listen for the removal of the full notebook cells\n",
              "var notebookContainer = gd.closest('#notebook-container');\n",
              "if (notebookContainer) {{\n",
              "    x.observe(notebookContainer, {childList: true});\n",
              "}}\n",
              "\n",
              "// Listen for the clearing of the current output cell\n",
              "var outputEl = gd.closest('.output');\n",
              "if (outputEl) {{\n",
              "    x.observe(outputEl, {childList: true});\n",
              "}}\n",
              "\n",
              "                        })                };                            </script>        </div>\n",
              "</body>\n",
              "</html>"
            ]
          },
          "metadata": {}
        }
      ]
    }
  ]
}